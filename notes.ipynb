{
 "cells": [
  {
   "cell_type": "markdown",
   "metadata": {},
   "source": [
    "Learn how to add decorators"
   ]
  },
  {
   "cell_type": "code",
   "execution_count": 2,
   "metadata": {},
   "outputs": [
    {
     "name": "stdout",
     "output_type": "stream",
     "text": [
      "defalt test\n",
      "This is the result: 3!\n",
      "3\n"
     ]
    }
   ],
   "source": [
    "def print_result(text='defalt test'):\n",
    "\tdef decorator(func):\n",
    "\t\tdef inner(*args, **kwargs):\n",
    "\t\t\titem = func(*args, **kwargs)\n",
    "\t\t\tprint(f'This is the result: {item}!')\n",
    "\t\t\treturn item\n",
    "\t\treturn inner\n",
    "\tprint(text)\n",
    "\treturn decorator\n",
    "\n",
    "@print_result()\n",
    "def add(a, b):\n",
    "\treturn a+b\n",
    "\n",
    "something = add(1, 2)\n",
    "print(something)"
   ]
  },
  {
   "cell_type": "markdown",
   "metadata": {},
   "source": [
    "add a way to select the number of bits"
   ]
  },
  {
   "cell_type": "markdown",
   "metadata": {},
   "source": [
    "add restore / clear functions that only effect the selected bits."
   ]
  },
  {
   "cell_type": "markdown",
   "metadata": {},
   "source": [
    "add sort options for all options."
   ]
  },
  {
   "cell_type": "code",
   "execution_count": 6,
   "metadata": {},
   "outputs": [
    {
     "name": "stdout",
     "output_type": "stream",
     "text": [
      "[['bla', 'alb'], ['asdf', 'wptuoire']]\n",
      "[['asdf', 'wptuoire'], ['bla', 'alb']]\n",
      "[['bla', 'alb'], ['asdf', 'wptuoire']]\n",
      "------\n",
      "[['bla', 'alb'], ['asdf', 'wptuoire']]\n",
      "[['asdf', 'wptuoire'], ['bla', 'alb']]\n"
     ]
    }
   ],
   "source": [
    "def sort_list(unsorted:list[str], idx:int, reverse:float=False):\n",
    "\tkey = lambda a:a[idx]\n",
    "\tunsorted.sort(key=key, reverse=reverse)\n",
    "\n",
    "my_list = [['bla', 'alb'], ['asdf', 'wptuoire']]\n",
    "\n",
    "print(my_list)\n",
    "sort_list(my_list, 0)\n",
    "print(my_list)\n",
    "sort_list(my_list, 0, True)\n",
    "print(my_list)\n",
    "\n",
    "print('------')\n",
    "sort_list(my_list, 1)\n",
    "print(my_list)\n",
    "sort_list(my_list, 1, True)\n",
    "print(my_list)\n"
   ]
  },
  {
   "cell_type": "markdown",
   "metadata": {},
   "source": [
    "add password hide button????"
   ]
  },
  {
   "cell_type": "markdown",
   "metadata": {},
   "source": [
    "use random.getrandbits(8)????"
   ]
  },
  {
   "cell_type": "markdown",
   "metadata": {},
   "source": [
    "add load/save/restore/static loading screens by passing function into it"
   ]
  }
 ],
 "metadata": {
  "kernelspec": {
   "display_name": "Python 3",
   "language": "python",
   "name": "python3"
  },
  "language_info": {
   "codemirror_mode": {
    "name": "ipython",
    "version": 3
   },
   "file_extension": ".py",
   "mimetype": "text/x-python",
   "name": "python",
   "nbconvert_exporter": "python",
   "pygments_lexer": "ipython3",
   "version": "3.11.8"
  }
 },
 "nbformat": 4,
 "nbformat_minor": 2
}
